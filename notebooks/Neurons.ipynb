{
 "cells": [
  {
   "cell_type": "markdown",
   "metadata": {},
   "source": [
    "# Purpose\n",
    "\n",
    "Of this notebook is to experiment with implementing a neural network. We will start with the base case."
   ]
  },
  {
   "cell_type": "markdown",
   "metadata": {},
   "source": [
    "### Neuron\n",
    "\n",
    "What is a neuron? It is a type of cell in the human brain that transfers a particular signal from one space to another. From the tips of its dendritic cells, into its soma and out through its axons, the signal moves close to the speed of light. And the strength of that signal seems to be a signal in and of itself. \n",
    "\n",
    "The next neuron that is receiving the pulse of electricity will perform some sort of computation to decide how much it should be excited by an upstream signal, and will propagate that signal downstream until a particular goal is achieved.\n",
    "\n",
    "The determinants of which goal to achieve are given by:\n",
    "- the pathways that were used to propagate the signal (brain to brain, brain to hand, brain to leg, etc.)\n",
    "- the connectivity of neurons; some neurons might be more \"familiar\" with one another and may allow signals to pass through more easily, and this difference in familiarity causes topological differences"
   ]
  },
  {
   "cell_type": "markdown",
   "metadata": {},
   "source": [
    "In this notebook I'd like to build a representation of the neuron and go through the backpropagation process from the ground up."
   ]
  },
  {
   "cell_type": "markdown",
   "metadata": {},
   "source": [
    "### Start!\n",
    "\n",
    "A neuron takes some input, and it produces some output. But when it first starts out, it hasn't learned anything and the soma that performs computation of a particular input will be unconditioned to respond in any particular way to any specific input."
   ]
  },
  {
   "cell_type": "code",
   "execution_count": 5,
   "metadata": {},
   "outputs": [],
   "source": [
    "import numpy as np"
   ]
  },
  {
   "cell_type": "code",
   "execution_count": 7,
   "metadata": {},
   "outputs": [],
   "source": [
    "def sigmoid(x):\n",
    "    return 1 / (1 + np.exp(-x))"
   ]
  },
  {
   "cell_type": "code",
   "execution_count": 8,
   "metadata": {},
   "outputs": [],
   "source": [
    "class Neuron:\n",
    "    def __init__(self, x=None):\n",
    "        self.x = x\n",
    "        self.W = np.rand(4, )\n",
    "\n",
    "    def set_input(self, x):\n",
    "        self.x = x\n",
    "        \n",
    "    def get_output(self, y):\n",
    "        return sigmoid(np.dot(self.W, self.x))"
   ]
  },
  {
   "cell_type": "code",
   "execution_count": null,
   "metadata": {},
   "outputs": [],
   "source": []
  }
 ],
 "metadata": {
  "kernelspec": {
   "display_name": "Python 3",
   "language": "python",
   "name": "python3"
  },
  "language_info": {
   "codemirror_mode": {
    "name": "ipython",
    "version": 3
   },
   "file_extension": ".py",
   "mimetype": "text/x-python",
   "name": "python",
   "nbconvert_exporter": "python",
   "pygments_lexer": "ipython3",
   "version": "3.6.5"
  }
 },
 "nbformat": 4,
 "nbformat_minor": 2
}
